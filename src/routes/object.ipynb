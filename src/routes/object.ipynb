{
 "cells": [
  {
   "cell_type": "code",
   "execution_count": 50,
   "id": "a70de3f0",
   "metadata": {},
   "outputs": [],
   "source": [
    "import pandas as pd\n",
    "from sklearn.feature_extraction.text import TfidfVectorizer\n",
    "from nltk.tokenize import word_tokenize\n",
    "from sklearn.metrics.pairwise import cosine_similarity\n",
    "from Sastrawi.StopWordRemover.StopWordRemoverFactory import StopWordRemoverFactory\n",
    "import pickle\n",
    "import requests\n",
    "\n",
    "class ContentBasedRecommender:\n",
    "    def __init__(self, api_url='http://127.0.0.1:8082/get-all-active-course', content_col='deskripsi'):\n",
    "        self.api_url = api_url\n",
    "        self.content_col = content_col\n",
    "        self.vectorizer = None\n",
    "        self.bank = None\n",
    "        self.df = None\n",
    "        self.latest_data()\n",
    "\n",
    "    def latest_data(self):\n",
    "        response = requests.post(self.api_url)\n",
    "        \n",
    "        if response.status_code == 200:\n",
    "            data = response.json()  # atau sesuaikan dengan format respons API\n",
    "            self.df = pd.DataFrame(data)\n",
    "        else:\n",
    "            print(f\"Error {response.status_code}: {response.text}\")\n",
    "\n",
    "    def fit(self):\n",
    "        stopword_factory = StopWordRemoverFactory()\n",
    "        stopwords = stopword_factory.get_stop_words()\n",
    "\n",
    "        self.vectorizer = TfidfVectorizer(stop_words=stopwords)\n",
    "        self.bank = self.vectorizer.fit_transform(self.df[self.content_col])\n",
    "\n",
    "    def train(self):\n",
    "        self.latest_data()\n",
    "        self.fit()\n",
    "\n",
    "    def recommend(self, course_id, min_similarity=0, topk=10):\n",
    "        idx = self.df.index[self.df['id_course'] == course_id].tolist()\n",
    "\n",
    "        if not idx:\n",
    "            print(f\"ID course {course_id} tidak ditemukan.\")\n",
    "            return []\n",
    "\n",
    "        idx = idx[0]\n",
    "        content = self.df.loc[idx, self.content_col]\n",
    "        code = self.vectorizer.transform([content])\n",
    "\n",
    "        cosine_sim = cosine_similarity(code, self.bank)\n",
    "        rec_idx = cosine_sim.argsort()[0, ::-1][1:topk+1]\n",
    "\n",
    "        filtered_rec_idx = [i for i in rec_idx if cosine_sim[0, i] > min_similarity][:topk]\n",
    "        recommendations_df = self.df.loc[filtered_rec_idx].copy()\n",
    "\n",
    "        recommendations_df['similarity'] = [cosine_sim[0, i] for i in filtered_rec_idx]\n",
    "        recommendations = recommendations_df.to_dict(orient='records')\n",
    "\n",
    "        return recommendations\n",
    "    \n",
    "    def recommend_by_interest(self, user_interest, min_similarity=0, topk=10):\n",
    "        interest_vector = self.vectorizer.transform([user_interest])\n",
    "\n",
    "        cosine_sim = cosine_similarity(interest_vector, self.bank)\n",
    "        rec_idx = cosine_sim.argsort()[0, ::-1][0:topk]\n",
    "        \n",
    "        filtered_rec_idx = [idx for idx in rec_idx if cosine_sim[0, idx] > min_similarity]\n",
    "\n",
    "        recommendations_df = self.df.loc[filtered_rec_idx].copy()\n",
    "\n",
    "        recommendations_df['similarity'] = [cosine_sim[0, idx] for idx in filtered_rec_idx]\n",
    "        recommendations = recommendations_df.to_dict(orient='records')\n",
    "\n",
    "        return recommendations\n",
    "\n",
    "    def save_model(self, file_path):\n",
    "        with open(file_path, 'wb') as file:\n",
    "            pickle.dump(self, file)\n",
    "        print(\"Model berhasil diexport dengan nama: \", file_path)\n",
    "        \n",
    "    @classmethod\n",
    "    def load_model(cls, file_path):\n",
    "        with open(file_path, 'rb') as file:\n",
    "            return pickle.load(file)\n"
   ]
  },
  {
   "cell_type": "code",
   "execution_count": 45,
   "id": "cae3dd10",
   "metadata": {},
   "outputs": [],
   "source": [
    "recommender = ContentBasedRecommender()\n",
    "recommender.fit()"
   ]
  },
  {
   "cell_type": "code",
   "execution_count": 46,
   "id": "81de0e18",
   "metadata": {},
   "outputs": [
    {
     "data": {
      "text/plain": [
       "[{'id_course': 17,\n",
       "  'nama_course': 'z',\n",
       "  'kategori': 'React.js',\n",
       "  'kesulitan': 'Dasar',\n",
       "  'deskripsi': 'Mempelajari algoritma dasar dengan alur logika seperti analisis kasus',\n",
       "  'total_modul': 0,\n",
       "  'followed': 1,\n",
       "  'rating': None,\n",
       "  'tgl_dibuat': '2023-12-20T17:00:00.000Z',\n",
       "  'similarity': 0.9443728111886356},\n",
       " {'id_course': 15,\n",
       "  'nama_course': 'tes',\n",
       "  'kategori': 'Kotlin',\n",
       "  'kesulitan': 'Menengah',\n",
       "  'deskripsi': 'algoritma dasar dengan menggunakan alur seperti menganalisa kasus',\n",
       "  'total_modul': 0,\n",
       "  'followed': 0,\n",
       "  'rating': None,\n",
       "  'tgl_dibuat': '2023-09-08T17:00:00.000Z',\n",
       "  'similarity': 0.5752716283822946},\n",
       " {'id_course': 14,\n",
       "  'nama_course': 'Flowchart',\n",
       "  'kategori': 'React.js',\n",
       "  'kesulitan': 'Dasar',\n",
       "  'deskripsi': 'Flowchart berperan penting dalam memutuskan sebuah langkah atau fungsionalitas dari sebuah proyek pembuatan program yang melibatkan banyak orang sekaligus. Selain itu dengan menggunakan bagan alur proses dari sebuah program akan lebih jelas, ringkas, dan ',\n",
       "  'total_modul': 1,\n",
       "  'followed': 0,\n",
       "  'rating': None,\n",
       "  'tgl_dibuat': '2023-06-12T17:00:00.000Z',\n",
       "  'similarity': 0.06323059440375771}]"
      ]
     },
     "execution_count": 46,
     "metadata": {},
     "output_type": "execute_result"
    }
   ],
   "source": [
    "recommender.recommend(13)"
   ]
  },
  {
   "cell_type": "code",
   "execution_count": 49,
   "id": "4383ed54",
   "metadata": {},
   "outputs": [
    {
     "data": {
      "text/plain": [
       "[]"
      ]
     },
     "execution_count": 49,
     "metadata": {},
     "output_type": "execute_result"
    }
   ],
   "source": [
    "recommender.recommend_by_interest(\"Web\")"
   ]
  },
  {
   "cell_type": "code",
   "execution_count": null,
   "id": "2c954b5b",
   "metadata": {},
   "outputs": [],
   "source": []
  }
 ],
 "metadata": {
  "kernelspec": {
   "display_name": "Python 3 (ipykernel)",
   "language": "python",
   "name": "python3"
  },
  "language_info": {
   "codemirror_mode": {
    "name": "ipython",
    "version": 3
   },
   "file_extension": ".py",
   "mimetype": "text/x-python",
   "name": "python",
   "nbconvert_exporter": "python",
   "pygments_lexer": "ipython3",
   "version": "3.11.4"
  }
 },
 "nbformat": 4,
 "nbformat_minor": 5
}
